{
 "cells": [
  {
   "cell_type": "markdown",
   "metadata": {},
   "source": [
    "<a id='top'></a>\n",
    "\n",
    "* [Load Data and Remove Duplicates](#load_data)\n",
    "\n",
    "* [Pick a Target Product and Number of Recommendations](#init)\n",
    "\n",
    "## Product content oriented:\n",
    "* [Popular Items](#popular_item): \n",
    "    - Most popular products in same (l2) category\n",
    "\n",
    "* [Product Association](#product_association): \n",
    "    - Find what products most frequently purhcased together\n",
    "    - Filter orders that purchased the target product and find other most frequently purchased products\n",
    "\n",
    "## User oriented:\n",
    "* Content Filtering: \n",
    "    - Give recommendations based on user historic purhcases\n",
    "    - Since dataset doesn't include user and purchased history, skip this method \n",
    "\n",
    "* [Collaborative Filtering](#collaborative_filtering):   \n",
    "    - Give recommendations based on other similar users' purhcases\n",
    "    - Since dataset doesn't include user info, compare similar orders instead using Jaccard similarity\n"
   ]
  },
  {
   "cell_type": "code",
   "execution_count": 1,
   "metadata": {},
   "outputs": [],
   "source": [
    "import os\n",
    "import numpy as np\n",
    "import pandas as pd\n",
    "from zipfile import ZipFile"
   ]
  },
  {
   "cell_type": "markdown",
   "metadata": {},
   "source": [
    "<a id='load_data'></a>\n",
    "## Load Data and Remove Duplicates"
   ]
  },
  {
   "cell_type": "code",
   "execution_count": 2,
   "metadata": {},
   "outputs": [
    {
     "name": "stdout",
     "output_type": "stream",
     "text": [
      "Unzipped dataset\n"
     ]
    },
    {
     "data": {
      "text/plain": [
       "['All Transations - 2 Weeks.txt', 'Transactions with A&S.txt']"
      ]
     },
     "execution_count": 2,
     "metadata": {},
     "output_type": "execute_result"
    }
   ],
   "source": [
    "zipfile_fpath = os.path.join('e-corp-data.zip')\n",
    "destination_path = \"data\"\n",
    "\n",
    "with ZipFile(zipfile_fpath, 'r') as zipObj:\n",
    "    # Extract all the contents of zip file in current directory\n",
    "    zipObj.extractall(destination_path)\n",
    "    print(\"Unzipped dataset\")\n",
    "    \n",
    "os.listdir(destination_path)"
   ]
  },
  {
   "cell_type": "code",
   "execution_count": 3,
   "metadata": {},
   "outputs": [
    {
     "data": {
      "text/html": [
       "<div>\n",
       "<style scoped>\n",
       "    .dataframe tbody tr th:only-of-type {\n",
       "        vertical-align: middle;\n",
       "    }\n",
       "\n",
       "    .dataframe tbody tr th {\n",
       "        vertical-align: top;\n",
       "    }\n",
       "\n",
       "    .dataframe thead th {\n",
       "        text-align: right;\n",
       "    }\n",
       "</style>\n",
       "<table border=\"1\" class=\"dataframe\">\n",
       "  <thead>\n",
       "    <tr style=\"text-align: right;\">\n",
       "      <th></th>\n",
       "      <th>order_number</th>\n",
       "      <th>l1</th>\n",
       "      <th>l2</th>\n",
       "      <th>l3</th>\n",
       "      <th>sku</th>\n",
       "      <th>brand</th>\n",
       "    </tr>\n",
       "  </thead>\n",
       "  <tbody>\n",
       "    <tr>\n",
       "      <th>0</th>\n",
       "      <td>168266</td>\n",
       "      <td>Power Tools</td>\n",
       "      <td>Power Saws and Accessories</td>\n",
       "      <td>Reciprocating Saw Blades</td>\n",
       "      <td>265105</td>\n",
       "      <td>2768</td>\n",
       "    </tr>\n",
       "    <tr>\n",
       "      <th>1</th>\n",
       "      <td>123986</td>\n",
       "      <td>Safety</td>\n",
       "      <td>Spill Control Supplies</td>\n",
       "      <td>Temporary Leak Repair</td>\n",
       "      <td>215839</td>\n",
       "      <td>586</td>\n",
       "    </tr>\n",
       "    <tr>\n",
       "      <th>2</th>\n",
       "      <td>158978</td>\n",
       "      <td>Hardware</td>\n",
       "      <td>Door Hardware</td>\n",
       "      <td>Thresholds</td>\n",
       "      <td>284756</td>\n",
       "      <td>1793</td>\n",
       "    </tr>\n",
       "    <tr>\n",
       "      <th>3</th>\n",
       "      <td>449035</td>\n",
       "      <td>Electronics, Appliances, and Batteries</td>\n",
       "      <td>Batteries</td>\n",
       "      <td>Standard Batteries</td>\n",
       "      <td>12579</td>\n",
       "      <td>1231</td>\n",
       "    </tr>\n",
       "    <tr>\n",
       "      <th>4</th>\n",
       "      <td>781232</td>\n",
       "      <td>Motors</td>\n",
       "      <td>General Purpose AC Motors</td>\n",
       "      <td>General Purpose AC Motors</td>\n",
       "      <td>194681</td>\n",
       "      <td>2603</td>\n",
       "    </tr>\n",
       "    <tr>\n",
       "      <th>...</th>\n",
       "      <td>...</td>\n",
       "      <td>...</td>\n",
       "      <td>...</td>\n",
       "      <td>...</td>\n",
       "      <td>...</td>\n",
       "      <td>...</td>\n",
       "    </tr>\n",
       "    <tr>\n",
       "      <th>2107532</th>\n",
       "      <td>373846</td>\n",
       "      <td>Hand Tools</td>\n",
       "      <td>Wrenches</td>\n",
       "      <td>Adjustable Wrench Sets</td>\n",
       "      <td>197463</td>\n",
       "      <td>3356</td>\n",
       "    </tr>\n",
       "    <tr>\n",
       "      <th>2107533</th>\n",
       "      <td>373846</td>\n",
       "      <td>Hand Tools</td>\n",
       "      <td>Wrenches</td>\n",
       "      <td>Combination Wrench Sets</td>\n",
       "      <td>104442</td>\n",
       "      <td>2351</td>\n",
       "    </tr>\n",
       "    <tr>\n",
       "      <th>2107534</th>\n",
       "      <td>373846</td>\n",
       "      <td>Test Instruments</td>\n",
       "      <td>Temperature and Humidity Measuring</td>\n",
       "      <td>Infrared Thermometers</td>\n",
       "      <td>61610</td>\n",
       "      <td>1596</td>\n",
       "    </tr>\n",
       "    <tr>\n",
       "      <th>2107535</th>\n",
       "      <td>373846</td>\n",
       "      <td>Hand Tools</td>\n",
       "      <td>Wrenches</td>\n",
       "      <td>Adjustable Wrenches</td>\n",
       "      <td>45956</td>\n",
       "      <td>4692</td>\n",
       "    </tr>\n",
       "    <tr>\n",
       "      <th>2107536</th>\n",
       "      <td>373846</td>\n",
       "      <td>Lighting</td>\n",
       "      <td>Flashlights</td>\n",
       "      <td>Keychain and Mini Flashlights</td>\n",
       "      <td>64172</td>\n",
       "      <td>2264</td>\n",
       "    </tr>\n",
       "  </tbody>\n",
       "</table>\n",
       "<p>2107537 rows × 6 columns</p>\n",
       "</div>"
      ],
      "text/plain": [
       "         order_number                                      l1  \\\n",
       "0              168266                             Power Tools   \n",
       "1              123986                                  Safety   \n",
       "2              158978                                Hardware   \n",
       "3              449035  Electronics, Appliances, and Batteries   \n",
       "4              781232                                  Motors   \n",
       "...               ...                                     ...   \n",
       "2107532        373846                              Hand Tools   \n",
       "2107533        373846                              Hand Tools   \n",
       "2107534        373846                        Test Instruments   \n",
       "2107535        373846                              Hand Tools   \n",
       "2107536        373846                                Lighting   \n",
       "\n",
       "                                         l2                             l3  \\\n",
       "0                Power Saws and Accessories       Reciprocating Saw Blades   \n",
       "1                    Spill Control Supplies          Temporary Leak Repair   \n",
       "2                             Door Hardware                     Thresholds   \n",
       "3                                 Batteries             Standard Batteries   \n",
       "4                 General Purpose AC Motors      General Purpose AC Motors   \n",
       "...                                     ...                            ...   \n",
       "2107532                            Wrenches         Adjustable Wrench Sets   \n",
       "2107533                            Wrenches        Combination Wrench Sets   \n",
       "2107534  Temperature and Humidity Measuring          Infrared Thermometers   \n",
       "2107535                            Wrenches            Adjustable Wrenches   \n",
       "2107536                         Flashlights  Keychain and Mini Flashlights   \n",
       "\n",
       "            sku  brand  \n",
       "0        265105   2768  \n",
       "1        215839    586  \n",
       "2        284756   1793  \n",
       "3         12579   1231  \n",
       "4        194681   2603  \n",
       "...         ...    ...  \n",
       "2107532  197463   3356  \n",
       "2107533  104442   2351  \n",
       "2107534   61610   1596  \n",
       "2107535   45956   4692  \n",
       "2107536   64172   2264  \n",
       "\n",
       "[2107537 rows x 6 columns]"
      ]
     },
     "execution_count": 3,
     "metadata": {},
     "output_type": "execute_result"
    }
   ],
   "source": [
    "# AnS = pd.read_csv(os.path.join(destination_path, 'Transactions with A&S.txt'), sep='\\t')\n",
    "All = pd.read_csv(os.path.join(destination_path, 'All Transations - 2 Weeks.txt'), sep='\\t')\n",
    "All"
   ]
  },
  {
   "cell_type": "markdown",
   "metadata": {},
   "source": [
    "### Duplicates\n",
    "Remove orders that purchase products in large quantity."
   ]
  },
  {
   "cell_type": "code",
   "execution_count": 4,
   "metadata": {},
   "outputs": [
    {
     "data": {
      "text/plain": [
       "(2055467, 6)"
      ]
     },
     "execution_count": 4,
     "metadata": {},
     "output_type": "execute_result"
    }
   ],
   "source": [
    "All.drop_duplicates(inplace=True)\n",
    "All.shape"
   ]
  },
  {
   "cell_type": "markdown",
   "metadata": {},
   "source": [
    "[Go back to top](#top)\n",
    "<a id='init'></a>\n",
    "### Pick a Target Product and Number of Recommendations"
   ]
  },
  {
   "cell_type": "code",
   "execution_count": 5,
   "metadata": {},
   "outputs": [
    {
     "name": "stdout",
     "output_type": "stream",
     "text": [
      "If user bought Cable and Wire Cutters\n",
      "\n"
     ]
    }
   ],
   "source": [
    "# randomly choose a l3 item\n",
    "l3 = np.random.choice(list(set(All.l3)))\n",
    "print(f\"If user bought {l3}\\n\")"
   ]
  },
  {
   "cell_type": "code",
   "execution_count": 6,
   "metadata": {},
   "outputs": [],
   "source": [
    "# choose number of recommendations\n",
    "num_recs = 3"
   ]
  },
  {
   "cell_type": "markdown",
   "metadata": {},
   "source": [
    "[Go back to top](#top)\n",
    "<a id='popular_item'></a>\n",
    "## Popular Item"
   ]
  },
  {
   "cell_type": "code",
   "execution_count": 7,
   "metadata": {},
   "outputs": [
    {
     "name": "stdout",
     "output_type": "stream",
     "text": [
      "Cable and Wire Cutters belongs to category: Cutting Tools\n",
      "Top 3 popular items in this category: ['Safety Utility Knives', 'Utility Knife Blades', 'Utility Knives']\n"
     ]
    }
   ],
   "source": [
    "# find popular items in same l2 category\n",
    "for l2 in set(All[All.l3==l3].l2):\n",
    "    recs = list(All[All.l2==l2].groupby('l3').size().sort_values(ascending=False).index)\n",
    "    print(f\"{l3} belongs to category: {l2}\")\n",
    "    print(f\"Top {num_recs} popular items in this category: {recs[:num_recs] if len(recs)>=num_recs else recs}\")"
   ]
  },
  {
   "cell_type": "markdown",
   "metadata": {},
   "source": [
    "[Go back to top](#top)\n",
    "<a id='product_association'></a>\n",
    "## Product Association"
   ]
  },
  {
   "cell_type": "code",
   "execution_count": 8,
   "metadata": {},
   "outputs": [
    {
     "name": "stdout",
     "output_type": "stream",
     "text": [
      "Top 3 popular items from people who also bought Cable and Wire Cutters: ['Screwdrivers', 'Hex and Torx Key Sets', 'Sockets']\n"
     ]
    }
   ],
   "source": [
    "# find orders that bought this item\n",
    "orders = All[All.order_number.isin(All[All.l3==l3].order_number)]\n",
    "# find other items frequently bought with the target item\n",
    "recs = list(orders.groupby('l3').size().sort_values(ascending=False).index)\n",
    "recs.remove(l3)\n",
    "print(f\"Top {num_recs} popular items from people who also bought {l3}: {recs[:num_recs] if len(recs)>=num_recs else recs}\")"
   ]
  },
  {
   "cell_type": "markdown",
   "metadata": {},
   "source": [
    "[Go back to top](#top)\n",
    "<a id='collaborative_filtering'></a>\n",
    "## Collaborative Filtering"
   ]
  },
  {
   "cell_type": "code",
   "execution_count": 24,
   "metadata": {},
   "outputs": [
    {
     "name": "stdout",
     "output_type": "stream",
     "text": [
      "Top 3 products similar to Cable and Wire Cutters: ['Wire Strippers and Cable Slitters', 'Cable and Wire Crimping Tools', 'Long Nose and Needle Nose Pliers']\n",
      "With score: [0.026283240568954855, 0.024378585086042064, 0.0216998191681736]\n"
     ]
    }
   ],
   "source": [
    "jaccard_series = pd.Series(0.0, index=All.l3.unique())\n",
    "orders = All.groupby('l3').order_number\n",
    "target_orders = set(orders.get_group(l3))\n",
    "\n",
    "for i in jaccard_series.index.tolist():\n",
    "    sample_orders = set(orders.get_group(i))\n",
    "    intersection = len(target_orders.intersection(sample_orders))\n",
    "    union = len(target_orders.union(sample_orders))\n",
    "    jaccard_series[i] = intersection/union\n",
    "\n",
    "jaccard_series.drop(l3, axis=0, inplace=True)\n",
    "recs = list(jaccard_series.sort_values(ascending=False).index)\n",
    "scores = list(jaccard_series.sort_values(ascending=False).values)\n",
    "print(f\"Top {num_recs} products similar to {l3}: {recs[:num_recs] if len(recs)>=num_recs else recs}\")\n",
    "print(f\"With score: {scores[:num_recs] if len(scores)>=num_recs else scores}\")"
   ]
  },
  {
   "cell_type": "markdown",
   "metadata": {},
   "source": [
    "[Go back to top](#top)"
   ]
  },
  {
   "cell_type": "code",
   "execution_count": null,
   "metadata": {},
   "outputs": [],
   "source": []
  }
 ],
 "metadata": {
  "kernelspec": {
   "display_name": "Python 3",
   "language": "python",
   "name": "python3"
  },
  "language_info": {
   "codemirror_mode": {
    "name": "ipython",
    "version": 3
   },
   "file_extension": ".py",
   "mimetype": "text/x-python",
   "name": "python",
   "nbconvert_exporter": "python",
   "pygments_lexer": "ipython3",
   "version": "3.8.5"
  }
 },
 "nbformat": 4,
 "nbformat_minor": 4
}
